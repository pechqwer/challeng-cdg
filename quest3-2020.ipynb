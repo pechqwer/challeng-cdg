{
 "nbformat": 4,
 "nbformat_minor": 2,
 "metadata": {
  "language_info": {
   "name": "python",
   "codemirror_mode": {
    "name": "ipython",
    "version": 3
   },
   "version": "3.7.3-final"
  },
  "orig_nbformat": 2,
  "file_extension": ".py",
  "mimetype": "text/x-python",
  "name": "python",
  "npconvert_exporter": "python",
  "pygments_lexer": "ipython3",
  "version": 3,
  "kernelspec": {
   "name": "python3",
   "display_name": "Python 3"
  }
 },
 "cells": [
  {
   "cell_type": "code",
   "execution_count": 7,
   "metadata": {
    "tags": [
     "outputPrepend"
    ]
   },
   "outputs": [
    {
     "output_type": "stream",
     "name": "stdout",
     "text": "15\n"
    }
   ],
   "source": [
    "import requests\n",
    "\n",
    "link = \"https://gist.githubusercontent.com/first087/ac91f67c2022093a2e493295db9a385f/raw/b5d9342a8d4391df769b3c896df32688e5b69beb/input_round_1\"\n",
    "result = requests.get(link)\n",
    "count_co = result.text.lower().count('co')\n",
    "count_vid = result.text.lower().count('vid')\n",
    "txt_is_covid = ''.join((filter(lambda x: x in ['c', 'o', 'v', 'i', 'd'], result.text.lower())))\n",
    "print('count diff: ', abs(count_co - count_vid))\n",
    "print('count covid: ',txt_is_covid.count('covid'))"
   ]
  },
  {
   "cell_type": "code",
   "execution_count": null,
   "metadata": {},
   "outputs": [],
   "source": []
  }
 ]
}